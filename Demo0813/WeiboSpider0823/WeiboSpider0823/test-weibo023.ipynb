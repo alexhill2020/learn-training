{
 "cells": [
  {
   "cell_type": "code",
   "execution_count": 62,
   "metadata": {
    "collapsed": true
   },
   "outputs": [],
   "source": [
    "import json\n",
    "\n",
    "import requests\n",
    "from lxml import etree\n",
    "import time\n",
    "import random"
   ]
  },
  {
   "cell_type": "code",
   "execution_count": 67,
   "outputs": [
    {
     "name": "stdout",
     "output_type": "stream",
     "text": [
      "https://m.weibo.cn/comments/hotflow?id=4353796790279702&mid=4353796790279702&max_id=14673415975046579&max_id_type=0\n",
      "https://m.weibo.cn/comments/hotflow?id=4353796790279702&mid=4353796790279702&max_id=275448648061911&max_id_type=0\n",
      "https://m.weibo.cn/comments/hotflow?id=4353796790279702&mid=4353796790279702&max_id=169895531821639&max_id_type=0\n",
      "https://m.weibo.cn/comments/hotflow?id=4353796790279702&mid=4353796790279702&max_id=156701392265234&max_id_type=0\n",
      "https://m.weibo.cn/comments/hotflow?id=4353796790279702&mid=4353796790279702&max_id=150654081187465&max_id_type=0\n",
      "https://m.weibo.cn/comments/hotflow?id=4353796790279702&mid=4353796790279702&max_id=147905303424141&max_id_type=0\n",
      "https://m.weibo.cn/comments/hotflow?id=4353796790279702&mid=4353796790279702&max_id=145706276611693&max_id_type=0\n",
      "https://m.weibo.cn/comments/hotflow?id=4353796790279702&mid=4353796790279702&max_id=144198930610058&max_id_type=0\n",
      "https://m.weibo.cn/comments/hotflow?id=4353796790279702&mid=4353796790279702&max_id=143375582864068&max_id_type=0\n",
      "https://m.weibo.cn/comments/hotflow?id=4353796790279702&mid=4353796790279702&max_id=143094938335976&max_id_type=0\n",
      "https://m.weibo.cn/comments/hotflow?id=4353796790279702&mid=4353796790279702&max_id=142682618932111&max_id_type=0\n",
      "https://m.weibo.cn/comments/hotflow?id=4353796790279702&mid=4353796790279702&max_id=142407741032871&max_id_type=0\n",
      "https://m.weibo.cn/comments/hotflow?id=4353796790279702&mid=4353796790279702&max_id=141999201789021&max_id_type=0\n",
      "https://m.weibo.cn/comments/hotflow?id=4353796790279702&mid=4353796790279702&max_id=141724340404627&max_id_type=0\n",
      "https://m.weibo.cn/comments/hotflow?id=4353796790279702&mid=4353796790279702&max_id=141588500092252&max_id_type=0\n"
     ]
    },
    {
     "ename": "KeyError",
     "evalue": "'data'",
     "output_type": "error",
     "traceback": [
      "\u001B[1;31m---------------------------------------------------------------------------\u001B[0m",
      "\u001B[1;31mKeyError\u001B[0m                                  Traceback (most recent call last)",
      "\u001B[1;32m<ipython-input-67-f2ce2da65606>\u001B[0m in \u001B[0;36m<module>\u001B[1;34m\u001B[0m\n\u001B[0;32m     22\u001B[0m     \u001B[0msub_json\u001B[0m \u001B[1;33m=\u001B[0m \u001B[0mjson\u001B[0m\u001B[1;33m.\u001B[0m\u001B[0mloads\u001B[0m\u001B[1;33m(\u001B[0m\u001B[0msub_response\u001B[0m\u001B[1;33m.\u001B[0m\u001B[0mtext\u001B[0m\u001B[1;33m)\u001B[0m \u001B[1;31m#因此，这里将变成text内容变成json数据。\u001B[0m\u001B[1;33m\u001B[0m\u001B[1;33m\u001B[0m\u001B[0m\n\u001B[0;32m     23\u001B[0m \u001B[1;33m\u001B[0m\u001B[0m\n\u001B[1;32m---> 24\u001B[1;33m     \u001B[0mmax_id\u001B[0m \u001B[1;33m=\u001B[0m \u001B[0msub_json\u001B[0m\u001B[1;33m[\u001B[0m\u001B[1;34m'data'\u001B[0m\u001B[1;33m]\u001B[0m\u001B[1;33m[\u001B[0m\u001B[1;34m'max_id'\u001B[0m\u001B[1;33m]\u001B[0m\u001B[1;33m\u001B[0m\u001B[1;33m\u001B[0m\u001B[0m\n\u001B[0m\u001B[0;32m     25\u001B[0m     \u001B[0mmax_ids\u001B[0m\u001B[1;33m.\u001B[0m\u001B[0mappend\u001B[0m\u001B[1;33m(\u001B[0m\u001B[0mmax_id\u001B[0m\u001B[1;33m)\u001B[0m\u001B[1;33m\u001B[0m\u001B[1;33m\u001B[0m\u001B[0m\n\u001B[0;32m     26\u001B[0m \u001B[1;33m\u001B[0m\u001B[0m\n",
      "\u001B[1;31mKeyError\u001B[0m: 'data'"
     ]
    }
   ],
   "source": [
    "url = 'https://m.weibo.cn/comments/hotflow?id=4353796790279702&mid=4353796790279702&max_id_type=0'\n",
    "\n",
    "headers = {\n",
    "    'User-Agent': 'Mozilla/5.0 (Windows NT 10.0; Win64; x64) AppleWebKit/537.36 (KHTML, like Gecko) Chrome/92.0.4515.107 Safari/537.36',\n",
    "    'cookie':'SUBP=0033WrSXqPxfM725Ws9jqgMF55529P9D9WWwuWXU8YuIimVP6JSElkZ25NHD95QpS0MfeKnXSoe7Ws4Dqcj_i--RiKn0i-2pi--Xi-z4i-zpi--Ri-8si-82i--Xi-z4iKyFi--ciKLhi-8W; _T_WM=42857180007; SUB=_2A25MIATtDeRhGedJ7FcQ-CrKyDyIHXVv6qylrDV6PUJbkdCOLUnFkW1NUbjvqCzcbmgfzBCDo11o3lLvJFOMOlmd; SCF=Aj00dJCaIsig6Qf6v4yl_BbuKBykvPfT7mpawafN1e6cgoq0ZP2-LvXlPMA8HGGBEqHDp6qkMhU4nScVR2SQ9I0.; SSOLoginState=1629779134; WEIBOCN_FROM=1110006030; MLOGIN=1; M_WEIBOCN_PARAMS=oid%3D4673693094253490%26luicode%3D20000061%26lfid%3D4673693094253490%26uicode%3D20000061%26fid%3D4673693094253490; XSRF-TOKEN=5f1ad4'\n",
    " }\n",
    "\n",
    "response = requests.get(url=url,headers=headers).json()\n",
    "#print(response)\n",
    "max_id = response['data']['max_id']\n",
    "\n",
    "max_ids = []\n",
    "\n",
    "while True:\n",
    "\n",
    "    sub_url = 'https://m.weibo.cn/comments/hotflow?id=4353796790279702&mid=4353796790279702&max_id={}&max_id_type=0'.format(max_id)\n",
    "\n",
    "    print(sub_url)\n",
    "    sub_response = requests.get(url=sub_url,headers=headers)    #可能因为网络问题，这里返回的不是json数据，而是文本。\n",
    "    #content = sub_response.text.encode(sub_response.encoding).decode(sub_response.apparent_encoding)\n",
    "    #print(content)\n",
    "    sub_json = json.loads(sub_response.text) #因此，这里将变成text内容变成json数据。\n",
    "\n",
    "    max_id = sub_json['data']['max_id']\n",
    "    max_ids.append(max_id)\n",
    "\n",
    "    if len(str(max_id)) < 1:\n",
    "        break\n",
    "    time.sleep(random.randint(0,4))\n",
    "print(len(max_ids))"
   ],
   "metadata": {
    "collapsed": false,
    "pycharm": {
     "name": "#%%\n"
    }
   }
  },
  {
   "cell_type": "code",
   "execution_count": 23,
   "outputs": [
    {
     "name": "stdout",
     "output_type": "stream",
     "text": [
      "https://weibo.cn/comment/Hmzv11aLk?uid=2970452952&rl=0\n",
      "https://weibo.cn/comment/KoJhuB4pk?uid=2970452952&rl=0\n",
      "https://weibo.cn/comment/KiODBxDuN?uid=2970452952&rl=0\n",
      "https://weibo.cn/comment/Khrbh3RFG?uid=2970452952&rl=0\n",
      "https://weibo.cn/comment/KgDVG6oCi?uid=2970452952&rl=0\n",
      "https://weibo.cn/comment/K9G6zC37c?uid=2970452952&rl=0\n",
      "https://weibo.cn/comment/K1k5NkiX2?uid=2970452952&rl=0\n",
      "https://weibo.cn/comment/JCpfQlIyF?uid=2970452952&rl=0\n",
      "https://weibo.cn/comment/JxGKggbaL?uid=2970452952&rl=0\n",
      "https://weibo.cn/comment/JsZmu0znb?uid=2970452952&rl=0\n",
      "https://weibo.cn/comment/Jr8yK4Zo3?uid=2970452952&rl=0\n"
     ]
    }
   ],
   "source": [
    "#url = 'https://m.weibo.cn/detail/4353796790279702'\n",
    "\n",
    "headers = {\n",
    "    'User-Agent': 'Mozilla/5.0 (Windows NT 10.0; Win64; x64) AppleWebKit/537.36 (KHTML, like Gecko) Chrome/92.0.4515.107 Safari/537.36',\n",
    "    'cookie':'SUB=_2A25MJ7A9DeRhGedJ7FcQ-CrKyDyIHXVv69B1rDV6PUJbktAKLWfVkW1NUbjvqIVxmCj__3gE4XhiXTBMhyUDCqH6; SUBP=0033WrSXqPxfM725Ws9jqgMF55529P9D9WWwuWXU8YuIimVP6JSElkZ25NHD95QpS0MfeKnXSoe7Ws4Dqcj_i--RiKn0i-2pi--Xi-z4i-zpi--Ri-8si-82i--Xi-z4iKyFi--ciKLhi-8W; _T_WM=42857180007'\n",
    "}\n",
    "\n",
    "\n",
    "\n",
    "\n",
    "\n",
    "#content = response.text.encode(response.encoding).decode(response.apparent_encoding)  #requests返回的是乱码，因此用这个解码。\n",
    "main_html = etree.HTML(response)\n",
    "divs = main_html.xpath('.//body/div[@class=\"c\" and @id]')\n",
    "for div in divs:\n",
    "    text = div.xpath('./div/span[@class=\"ctt\"]/text()')\n",
    "    text = ''.join(i for i in text)\n",
    "    comments_url = ((div.xpath('./div/a[@class = \"cc\"]/@href'))[0]).replace('#cmtfrm','')\n",
    "    print(comments_url)"
   ],
   "metadata": {
    "collapsed": false,
    "pycharm": {
     "name": "#%%\n"
    }
   }
  },
  {
   "cell_type": "code",
   "execution_count": null,
   "outputs": [],
   "source": [],
   "metadata": {
    "collapsed": false,
    "pycharm": {
     "name": "#%%\n"
    }
   }
  }
 ],
 "metadata": {
  "kernelspec": {
   "display_name": "Python 3",
   "language": "python",
   "name": "python3"
  },
  "language_info": {
   "codemirror_mode": {
    "name": "ipython",
    "version": 2
   },
   "file_extension": ".py",
   "mimetype": "text/x-python",
   "name": "python",
   "nbconvert_exporter": "python",
   "pygments_lexer": "ipython2",
   "version": "2.7.6"
  }
 },
 "nbformat": 4,
 "nbformat_minor": 0
}