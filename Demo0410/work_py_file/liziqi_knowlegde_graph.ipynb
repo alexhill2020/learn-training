{
 "cells": [
  {
   "cell_type": "code",
   "execution_count": 4,
   "metadata": {
    "collapsed": true
   },
   "outputs": [],
   "source": [
    "# -*- coding: utf-8 -*-\n",
    "\n",
    "import numpy as np\n",
    "import csv\n",
    "from scipy.sparse import coo_matrix\n"
   ]
  },
  {
   "cell_type": "code",
   "execution_count": 3,
   "outputs": [
    {
     "ename": "FileNotFoundError",
     "evalue": "[Errno 2] No such file or directory: 'E:\\\\PycharmProjects\\\\Demo0410\\\\work_data_liziqi\\\\all_cut_word.txt'",
     "output_type": "error",
     "traceback": [
      "\u001B[1;31m---------------------------------------------------------------------------\u001B[0m",
      "\u001B[1;31mFileNotFoundError\u001B[0m                         Traceback (most recent call last)",
      "\u001B[1;32m<ipython-input-3-8a8f3271adab>\u001B[0m in \u001B[0;36m<module>\u001B[1;34m\u001B[0m\n\u001B[0;32m      2\u001B[0m \u001B[1;33m\u001B[0m\u001B[0m\n\u001B[0;32m      3\u001B[0m \u001B[0mword\u001B[0m \u001B[1;33m=\u001B[0m \u001B[1;33m[\u001B[0m\u001B[1;33m]\u001B[0m  \u001B[1;31m#这个列表将包含处理数据所有的词，不分文档。\u001B[0m\u001B[1;33m\u001B[0m\u001B[1;33m\u001B[0m\u001B[0m\n\u001B[1;32m----> 4\u001B[1;33m \u001B[0mf\u001B[0m \u001B[1;33m=\u001B[0m \u001B[0mopen\u001B[0m\u001B[1;33m(\u001B[0m\u001B[0mall_cut_word\u001B[0m\u001B[1;33m,\u001B[0m\u001B[1;34m'r'\u001B[0m\u001B[1;33m,\u001B[0m\u001B[0mencoding\u001B[0m\u001B[1;33m=\u001B[0m\u001B[1;34m'utf-8'\u001B[0m\u001B[1;33m)\u001B[0m\u001B[1;33m\u001B[0m\u001B[1;33m\u001B[0m\u001B[0m\n\u001B[0m\u001B[0;32m      5\u001B[0m \u001B[0mline\u001B[0m \u001B[1;33m=\u001B[0m \u001B[0mf\u001B[0m\u001B[1;33m.\u001B[0m\u001B[0mreadline\u001B[0m\u001B[1;33m(\u001B[0m\u001B[1;33m)\u001B[0m  \u001B[1;31m#这里.readline()是读取下一行，如第一次则读取第一行，再读一次则读取第2行。.readlines()是将所有行读入到一个列表中。\u001B[0m\u001B[1;33m\u001B[0m\u001B[1;33m\u001B[0m\u001B[0m\n\u001B[0;32m      6\u001B[0m \u001B[1;32mwhile\u001B[0m \u001B[0mline\u001B[0m\u001B[1;33m:\u001B[0m\u001B[1;33m\u001B[0m\u001B[1;33m\u001B[0m\u001B[0m\n",
      "\u001B[1;31mFileNotFoundError\u001B[0m: [Errno 2] No such file or directory: 'E:\\\\PycharmProjects\\\\Demo0410\\\\work_data_liziqi\\\\all_cut_word.txt'"
     ]
    }
   ],
   "source": [
    "all_cut_word = 'E:\\\\PycharmProjects\\\\Demo0410\\\\work_data_liziqi\\\\all_cut_word.txt'\n",
    "\n",
    "word = []  #这个列表将包含处理数据所有的词，不分文档。\n",
    "f = open(all_cut_word,'r',encoding='utf-8')\n",
    "line = f.readline()  #这里.readline()是读取下一行，如第一次则读取第一行，再读一次则读取第2行。.readlines()是将所有行读入到一个列表中。\n",
    "while line:\n",
    "    #print line\n",
    "    line = line.replace(\"\\n\", \"\") #取消换行符。\n",
    "    line = line.strip('\\n')   #取消换行符前面或后面的空格。\n",
    "    for n in line.split(' '):  #将所读的读用空格分开，并分别读取每个词，记为n。\n",
    "        #print n\n",
    "        if n not in word:  #如果读取的词n没有在word列表中，则将其添加到列表，否则不处理。此步主要是将不重复的词全部加到一个列表。\n",
    "            word.append(n)\n",
    "    line = f.readline() #读取下一行。\n",
    "f.close()\n",
    "#print(len(word)) #全部不重复的词的总数。经过去重后共得到6538个词。\n"
   ],
   "metadata": {
    "collapsed": false,
    "pycharm": {
     "name": "#%%\n"
    }
   }
  },
  {
   "cell_type": "code",
   "execution_count": 16,
   "outputs": [
    {
     "name": "stdout",
     "output_type": "stream",
     "text": [
      "[[0. 0. 0.]\n",
      " [0. 0. 0.]]\n"
     ]
    }
   ],
   "source": [
    "a = np.zeros([2,3])  #先创建一个各元素皆为0的2*3矩阵（2行3列的空矩阵），以备后面添加数据。\n",
    "print(a)\n"
   ],
   "metadata": {
    "collapsed": false,
    "pycharm": {
     "name": "#%%\n"
    }
   }
  },
  {
   "cell_type": "code",
   "execution_count": 18,
   "outputs": [
    {
     "name": "stdout",
     "output_type": "stream",
     "text": [
      "(6538, 6538)\n"
     ]
    }
   ],
   "source": [
    "word_vector = np.zeros([len(word),len(word)], dtype='float16')  #创建一个列和行总数都等于单词总数的矩阵。\n",
    "print(word_vector.shape)"
   ],
   "metadata": {
    "collapsed": false,
    "pycharm": {
     "name": "#%%\n"
    }
   }
  },
  {
   "cell_type": "code",
   "execution_count": 20,
   "outputs": [],
   "source": [
    "f = open(all_cut_word, encoding='utf-8')  #再次读取文件。\n",
    "line = f.readline()           #再次读取第一行。\n",
    "while line:\n",
    "    line = line.replace(\"\\n\", \"\") #再次过滤换行符。\n",
    "    line = line.strip('\\n') #再次过滤换行符前后的空格。\n",
    "    nums = line.split(' ') #再次用空格分割。此时nums为列表，列表元素为一个一个的词。\n",
    "\n",
    "    #循环遍历关键词所在位置 设置word_vector计数\n",
    "    i = 0\n",
    "    j = 0\n",
    "    while i<len(nums):  #循环的次数为每行（每条评论）的词数。这个循环是处理每一行。\n",
    "        j = i + 1  #第一次执行的时候i=0,j=1。\n",
    "        w1 = nums[i]           #w1为此行的第一词。\n",
    "        while j<len(nums):  #循环的次数仍然为每行（每条评论）的词数。\n",
    "            w2 = nums[j]       #此时i=0,j=1，则w2为此行的第二个单词。\n",
    "            #从word数组中找到单词对应的下标\n",
    "            k = 0\n",
    "            n1 = 0  #n1为行。\n",
    "            while k<len(word):\n",
    "                if w1==word[k]:  #第一次执行时，w1为第一个词。意思是，如果是这个词本身，就退出此循环，执行下一步。\n",
    "                    n1 = k\n",
    "                    break\n",
    "                k = k +1  #如果不是这个词本身，那就执行这句。\n",
    "            #寻找第二个关键字位置\n",
    "            k = 0\n",
    "            n2 = 0  #n2为列。\n",
    "            while k<len(word):\n",
    "                if w2==word[k]:\n",
    "                    n2 = k\n",
    "                    break\n",
    "                k = k +1\n",
    "            #重点: 词频矩阵赋值 只计算上三角\n",
    "            if n1<=n2:\n",
    "                word_vector[n1][n2] = word_vector[n1][n2] + 1\n",
    "            else:\n",
    "                word_vector[n2][n1] = word_vector[n2][n1] + 1\n",
    "            #print n1, n2, w1, w2\n",
    "            j = j + 1\n",
    "        i = i + 1\n",
    "    #读取新内容\n",
    "    line = f.readline()\n",
    "f.close()"
   ],
   "metadata": {
    "collapsed": false,
    "pycharm": {
     "name": "#%%\n"
    }
   }
  },
  {
   "cell_type": "code",
   "execution_count": 27,
   "outputs": [],
   "source": [
    "res = open(\"E:\\\\PycharmProjects\\\\Demo0410\\\\work_data_liziqi\\\\word_word_weight.txt\", \"a+\", encoding='utf-8')\n",
    "i = 0\n",
    "while i<len(word):\n",
    "    w1 = word[i]\n",
    "    j = 0\n",
    "    while j<len(word):\n",
    "        w2 = word[j]\n",
    "        #判断两个词是否共现 共现&词频不为0的写入文件\n",
    "        if word_vector[i][j]>0:\n",
    "            #print w1 +\" \" + w2 + \" \"+ str(int(word_vector[i][j]))\n",
    "            res.write(w1 +\" \" + w2 + \" \"+ str(int(word_vector[i][j]))  +  \"\\n\")\n",
    "        j = j + 1\n",
    "    i = i + 1\n",
    "res.close()"
   ],
   "metadata": {
    "collapsed": false,
    "pycharm": {
     "name": "#%%\n"
    }
   }
  },
  {
   "cell_type": "code",
   "execution_count": 28,
   "outputs": [],
   "source": [
    "c = open(\"E:\\\\PycharmProjects\\\\Demo0410\\\\work_data_liziqi\\\\word-word-weight.csv\",\"w\", encoding='utf-8', newline='')    #解决空行\n",
    "#c.write(codecs.BOM_UTF8)                                 #防止乱码\n",
    "writer = csv.writer(c)                                    #写入对象\n",
    "writer.writerow(['Word1', 'Word2', 'Weight'])\n",
    "\n",
    "i = 0\n",
    "while i<len(word):\n",
    "    w1 = word[i]\n",
    "    j = 0\n",
    "    while j<len(word):\n",
    "        w2 = word[j]\n",
    "        #判断两个词是否共现 共现词频不为0的写入文件\n",
    "        if word_vector[i][j]>0:\n",
    "            #写入文件\n",
    "            templist = []\n",
    "            templist.append(w1)\n",
    "            templist.append(w2)\n",
    "            templist.append(str(int(word_vector[i][j])))\n",
    "            #print templist\n",
    "            writer.writerow(templist)\n",
    "        j = j + 1\n",
    "    i = i + 1\n",
    "c.close()"
   ],
   "metadata": {
    "collapsed": false,
    "pycharm": {
     "name": "#%%\n"
    }
   }
  }
 ],
 "metadata": {
  "kernelspec": {
   "display_name": "Python 3",
   "language": "python",
   "name": "python3"
  },
  "language_info": {
   "codemirror_mode": {
    "name": "ipython",
    "version": 2
   },
   "file_extension": ".py",
   "mimetype": "text/x-python",
   "name": "python",
   "nbconvert_exporter": "python",
   "pygments_lexer": "ipython2",
   "version": "2.7.6"
  }
 },
 "nbformat": 4,
 "nbformat_minor": 0
}