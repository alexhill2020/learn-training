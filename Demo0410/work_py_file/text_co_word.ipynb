{
 "cells": [
  {
   "cell_type": "code",
   "execution_count": 1,
   "metadata": {
    "collapsed": true
   },
   "outputs": [],
   "source": [
    "import os\n",
    "import pandas as pd\n",
    "import numpy as np\n",
    "import csv\n",
    "import time"
   ]
  },
  {
   "cell_type": "code",
   "execution_count": 2,
   "outputs": [],
   "source": [
    "path_dir = 'E:\\\\PycharmProjects\\\\Demo0410\\\\work_data_liziqi\\\\data'\n",
    "excel_file = 'shenghuo_comments_35378.xlsx'\n",
    "excel_frq_file = 'shenghuo_word_frq_17698.xlsx'\n",
    "\n",
    "path_file = os.path.join(path_dir,excel_file)\n",
    "path_frq_file = os.path.join(path_dir,excel_frq_file)"
   ],
   "metadata": {
    "collapsed": false,
    "pycharm": {
     "name": "#%%\n"
    }
   }
  },
  {
   "cell_type": "code",
   "execution_count": 3,
   "outputs": [],
   "source": [
    "filter_df = pd.read_excel(path_file,usecols=['title','text','user_name','create_time','clean_text','cut_word','pos_word'])\n",
    "filter_df.index = (filter_df.reset_index()).index + 1\n",
    "\n",
    "#读取特定个数的高频词，以构建高频词之间的共现关系。\n",
    "word_frq_filter_df = pd.read_excel(path_frq_file,index_col=0,nrows=238)\n",
    "    #这里的\"nrows=238\"，即读取238个词，其数量是根据高频词低频词分界公式计算得出的。"
   ],
   "metadata": {
    "collapsed": false,
    "pycharm": {
     "name": "#%% #将保存的文件读取为表格\n"
    }
   }
  },
  {
   "cell_type": "code",
   "execution_count": 4,
   "outputs": [],
   "source": [
    "word = list(word_frq_filter_df['word'])"
   ],
   "metadata": {
    "collapsed": false,
    "pycharm": {
     "name": "#%%  #将高频词构建为一个列表。\n"
    }
   }
  },
  {
   "cell_type": "code",
   "execution_count": 7,
   "outputs": [],
   "source": [
    "line_list = []\n",
    "for line in filter_df['cut_word']:\n",
    "    line_word_list = line.split(' ')\n",
    "    line_filter_word = []\n",
    "    for w in line_word_list:\n",
    "        if len(w) > 1:\n",
    "            if w in word:\n",
    "                line_filter_word.append(w)\n",
    "    if len(line_filter_word) > 1:  #如果此条评论中的词大于1个，则加入列表，否则抛弃。因为如果只有1个，则无法做共现分析。\n",
    "        line_list.append(line_filter_word)"
   ],
   "metadata": {
    "collapsed": false,
    "pycharm": {
     "name": "#%%  #对所有评论进行筛选，只保留评论中的高频词，以做高频词的共现关系分析。\n"
    }
   }
  },
  {
   "cell_type": "code",
   "execution_count": 9,
   "outputs": [],
   "source": [
    "def co_word_vector(word,line_lists):\n",
    "    word_vector = np.zeros([len(word),len(word)], dtype='float32')  #float16好像最大为2048，试下float32。float32果然能表示比2048更大的数。\n",
    "    #word_vector = coo_matrix((len(word),len(word)), dtype=np.int8).toarray()  #此矩阵貌似进行过换算，目前的参数最大是128，并且对某些共现对降过权。还要试验、研究以确认。\n",
    "    print(f\"矩阵形状为：{word_vector.shape}\")\n",
    "    print(f\"不重复词数为：{len(word)}\")\n",
    "    print(f\"评论总数为：{len(line_lists)}\")\n",
    "\n",
    "    m = 1\n",
    "    for nums in line_lists:\n",
    "\n",
    "        #循环遍历关键词所在位置 设置word_vector计数\n",
    "        i = 0\n",
    "        j = 0\n",
    "        while i<len(nums):         #ABCD共现 AB AC AD BC BD CD加1\n",
    "            #第一次循环则句子里第一个词和第二个词。第二次循环则句子里第二个词和第三个词，依次类推。\n",
    "            j = i + 1  #i为第一个词，j则为第二个词。\n",
    "            w1 = nums[i]           #w1为句子里第一个词\n",
    "            while j<len(nums):\n",
    "                w2 = nums[j]       #w2为句子里第二个词\n",
    "                #从word数组中找到单词对应的下标\n",
    "                k = 0\n",
    "                n1 = 0\n",
    "                while k<len(word): #循环遍历word列表，再将w1与word列表里的词依次比较。\n",
    "                    if w1==word[k]: #如果单词w1与word列表里的第k个词相同，则k为单词w1在word列表里的下标。\n",
    "                        n1 = k #n1为单词w1在word列表里的下标。\n",
    "                        break\n",
    "                    k = k +1\n",
    "                #寻找第二个关键字位置\n",
    "                k = 0\n",
    "                n2 = 0\n",
    "                while k<len(word):\n",
    "                    if w2==word[k]:  #此时k为单词w2在word列表里的下标。\n",
    "                        n2 = k  #此时n2为单词w2在word列表里的下标。\n",
    "                        break\n",
    "                    k = k +1\n",
    "                #重点: 词频矩阵赋值 只计算上三角\n",
    "                if n1<=n2:\n",
    "                    word_vector[n1][n2] = word_vector[n1][n2] + 1\n",
    "                else:\n",
    "                    word_vector[n2][n1] = word_vector[n2][n1] + 1\n",
    "                #print n1, n2, w1, w2\n",
    "                j = j + 1\n",
    "            i = i + 1\n",
    "        if m == 10000 or m == 20000 or m == 30000:\n",
    "            print(f'已处理{m}条评论，请稍等。')\n",
    "            print(time.time())\n",
    "        m += 1\n",
    "    return word_vector"
   ],
   "metadata": {
    "collapsed": false,
    "pycharm": {
     "name": "#%%\n"
    }
   }
  },
  {
   "cell_type": "code",
   "execution_count": 91,
   "outputs": [
    {
     "data": {
      "text/plain": "'\\ndef co_word_vector(word,line_lists):\\n    word_vector = np.zeros([len(word),len(word)], dtype=\\'float32\\')  #float16好像最大为2048，试下float32。float32果然能表示比2048更大的数。\\n    #word_vector = coo_matrix((len(word),len(word)), dtype=np.int8).toarray()  #此矩阵貌似进行过换算，目前的参数最大是128，并且对某些共现对降过权。还要试验、研究以确认。\\n    print(f\"矩阵形状为：{word_vector.shape}\")\\n    print(f\"不重复词数为：{len(word)}\")\\n    print(f\"评论总数为：{len(line_lists)}\")\\n    m = 1\\n    for line in line_lists:\\n\\n        #去除读取行中的单字符。\\n        line_list = line.split(\\' \\')\\n        nums = []\\n        for w in line_list:\\n            if len(w) > 1:\\n                nums.append(w)\\n\\n        #循环遍历关键词所在位置 设置word_vector计数\\n        i = 0\\n        j = 0\\n        while i<len(nums):         #ABCD共现 AB AC AD BC BD CD加1\\n            j = i + 1\\n            w1 = nums[i]           #第一个单词\\n            while j<len(nums):\\n                w2 = nums[j]       #第二个单词\\n                #从word数组中找到单词对应的下标\\n                k = 0\\n                n1 = 0\\n                while k<len(word):\\n                    if w1==word[k]:\\n                        n1 = k\\n                        break\\n                    k = k +1\\n                #寻找第二个关键字位置\\n                k = 0\\n                n2 = 0\\n                while k<len(word):\\n                    if w2==word[k]:\\n                        n2 = k\\n                        break\\n                    k = k +1\\n                #重点: 词频矩阵赋值 只计算上三角\\n                if n1<=n2:\\n                    word_vector[n1][n2] = word_vector[n1][n2] + 1\\n                else:\\n                    word_vector[n2][n1] = word_vector[n2][n1] + 1\\n                #print n1, n2, w1, w2\\n                j = j + 1\\n            i = i + 1\\n        if m == 10000 or m == 20000 or m == 30000:\\n            print(f\\'已处理{m}条评论，请稍等。\\')\\n            print(time.time())\\n        m += 1\\n    return word_vector\\n'"
     },
     "execution_count": 91,
     "metadata": {},
     "output_type": "execute_result"
    }
   ],
   "source": [
    "#将所有词构造成一个去除单字符，且不重复的词列表。\n",
    "'''\n",
    "word = []\n",
    "for line in filter_df['cut_word']:\n",
    "    line = line.split(' ')\n",
    "    for w in line:\n",
    "        if len(w) > 1:\n",
    "            if w not in word:\n",
    "                word.append(w)\n",
    "'''\n",
    "\n",
    "#定义共现函数。\n",
    "'''\n",
    "def co_word_vector(word,line_lists):\n",
    "    word_vector = np.zeros([len(word),len(word)], dtype='float32')  #float16好像最大为2048，试下float32。float32果然能表示比2048更大的数。\n",
    "    #word_vector = coo_matrix((len(word),len(word)), dtype=np.int8).toarray()  #此矩阵貌似进行过换算，目前的参数最大是128，并且对某些共现对降过权。还要试验、研究以确认。\n",
    "    print(f\"矩阵形状为：{word_vector.shape}\")\n",
    "    print(f\"不重复词数为：{len(word)}\")\n",
    "    print(f\"评论总数为：{len(line_lists)}\")\n",
    "    m = 1\n",
    "    for line in line_lists:\n",
    "\n",
    "        #去除读取行中的单字符。\n",
    "        line_list = line.split(' ')\n",
    "        nums = []\n",
    "        for w in line_list:\n",
    "            if len(w) > 1:\n",
    "                nums.append(w)\n",
    "\n",
    "        #循环遍历关键词所在位置 设置word_vector计数\n",
    "        i = 0\n",
    "        j = 0\n",
    "        while i<len(nums):         #ABCD共现 AB AC AD BC BD CD加1\n",
    "            j = i + 1\n",
    "            w1 = nums[i]           #第一个单词\n",
    "            while j<len(nums):\n",
    "                w2 = nums[j]       #第二个单词\n",
    "                #从word数组中找到单词对应的下标\n",
    "                k = 0\n",
    "                n1 = 0\n",
    "                while k<len(word):\n",
    "                    if w1==word[k]:\n",
    "                        n1 = k\n",
    "                        break\n",
    "                    k = k +1\n",
    "                #寻找第二个关键字位置\n",
    "                k = 0\n",
    "                n2 = 0\n",
    "                while k<len(word):\n",
    "                    if w2==word[k]:\n",
    "                        n2 = k\n",
    "                        break\n",
    "                    k = k +1\n",
    "                #重点: 词频矩阵赋值 只计算上三角\n",
    "                if n1<=n2:\n",
    "                    word_vector[n1][n2] = word_vector[n1][n2] + 1\n",
    "                else:\n",
    "                    word_vector[n2][n1] = word_vector[n2][n1] + 1\n",
    "                #print n1, n2, w1, w2\n",
    "                j = j + 1\n",
    "            i = i + 1\n",
    "        if m == 10000 or m == 20000 or m == 30000:\n",
    "            print(f'已处理{m}条评论，请稍等。')\n",
    "            print(time.time())\n",
    "        m += 1\n",
    "    return word_vector\n",
    "'''"
   ],
   "metadata": {
    "collapsed": false,
    "pycharm": {
     "name": "#%%  定义共现矩阵构造函数及存储函数。\n"
    }
   }
  },
  {
   "cell_type": "code",
   "execution_count": 10,
   "outputs": [],
   "source": [
    "def save_co_word_to_txt(word,word_vector,txt_name):\n",
    "    res = open(path_dir+'\\\\'+txt_name, \"a+\", encoding='utf-8')\n",
    "    i = 0\n",
    "    while i<len(word):\n",
    "        w1 = word[i]\n",
    "        j = 0\n",
    "        while j<len(word):\n",
    "            w2 = word[j]\n",
    "            #判断两个词是否共现 共现&词频不为0的写入文件\n",
    "            if w1 != w2:  #如果w1与w2不同，即写入记录，否则不操作。\n",
    "                if word_vector[i][j]>0:\n",
    "                    #print w1 +\" \" + w2 + \" \"+ str(int(word_vector[i][j]))\n",
    "                    res.write(w1 +\" \" + w2 + \" \"+ str(int(word_vector[i][j]))  +  \"\\n\")\n",
    "            j = j + 1\n",
    "        i = i + 1\n",
    "    res.close()\n",
    "\n",
    "def save_co_word_to_csv(word,word_vector,csv_name):\n",
    "    c = open(path_dir+'\\\\'+csv_name,\"w\", encoding='utf-8', newline='')    #解决空行\n",
    "    #c.write(codecs.BOM_UTF8)                                 #防止乱码\n",
    "    writer = csv.writer(c)                                    #写入对象\n",
    "    writer.writerow(['Word1', 'Word2', 'Weight'])\n",
    "\n",
    "    i = 0\n",
    "    while i<len(word):\n",
    "        w1 = word[i]\n",
    "        j = 0\n",
    "        while j<len(word):\n",
    "            w2 = word[j]\n",
    "            #判断两个词是否共现 共现词频不为0的写入文件\n",
    "            if w1 != w2:  #如果w1与w2不同，即写入记录，否则不操作。\n",
    "                if word_vector[i][j]>0:\n",
    "                    #写入文件\n",
    "                    templist = []\n",
    "                    templist.append(w1)\n",
    "                    templist.append(w2)\n",
    "                    templist.append(str(int(word_vector[i][j])))\n",
    "                    #print templist\n",
    "                    writer.writerow(templist)\n",
    "            j = j + 1\n",
    "        i = i + 1\n",
    "    c.close()"
   ],
   "metadata": {
    "collapsed": false,
    "pycharm": {
     "name": "#%%  #构造保存函数。\n"
    }
   }
  },
  {
   "cell_type": "code",
   "execution_count": 12,
   "outputs": [
    {
     "name": "stdout",
     "output_type": "stream",
     "text": [
      "矩阵形状为：(238, 238)\n",
      "不重复词数为：238\n",
      "评论总数为：30433\n",
      "已处理10000条评论，请稍等。\n",
      "1624585675.7602665\n",
      "已处理20000条评论，请稍等。\n",
      "1624585678.2774644\n",
      "已处理30000条评论，请稍等。\n",
      "1624585680.3176906\n",
      "共现矩阵构建完毕。\n",
      "1624585680.4547758\n",
      "写入txt文件完毕。\n",
      "1624585680.5744255\n",
      "写入csv文件完毕。\n",
      "1624585680.7145114\n"
     ]
    }
   ],
   "source": [
    "#经测试，19975个词，32741条评论，整个过程大致在35分钟内完成。\n",
    "word_vector1 = co_word_vector(word,line_list)\n",
    "print('共现矩阵构建完毕。')\n",
    "print(time.time())\n",
    "\n",
    "save_co_word_to_txt(word,word_vector1,'shenghuo_co_word_1.txt')\n",
    "print('写入txt文件完毕。')\n",
    "print(time.time())\n",
    "\n",
    "save_co_word_to_csv(word,word_vector1,'shenghuo_co_word_1.csv')\n",
    "print('写入csv文件完毕。')\n",
    "print(time.time())"
   ],
   "metadata": {
    "collapsed": false,
    "pycharm": {
     "name": "#%% #调用函数，进行共现矩阵的计算，并存入相关文件。\n"
    }
   }
  },
  {
   "cell_type": "code",
   "execution_count": 6,
   "outputs": [],
   "source": [],
   "metadata": {
    "collapsed": false,
    "pycharm": {
     "name": "#%%\n"
    }
   }
  }
 ],
 "metadata": {
  "kernelspec": {
   "display_name": "Python 3",
   "language": "python",
   "name": "python3"
  },
  "language_info": {
   "codemirror_mode": {
    "name": "ipython",
    "version": 2
   },
   "file_extension": ".py",
   "mimetype": "text/x-python",
   "name": "python",
   "nbconvert_exporter": "python",
   "pygments_lexer": "ipython2",
   "version": "2.7.6"
  }
 },
 "nbformat": 4,
 "nbformat_minor": 0
}