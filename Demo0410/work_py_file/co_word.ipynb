{
 "cells": [
  {
   "cell_type": "code",
   "execution_count": 1,
   "metadata": {
    "collapsed": true
   },
   "outputs": [],
   "source": [
    "import os\n",
    "import pandas as pd\n",
    "import numpy as np\n",
    "import csv\n",
    "from scipy.sparse import coo_matrix\n",
    "import time"
   ]
  },
  {
   "cell_type": "code",
   "execution_count": 2,
   "outputs": [],
   "source": [
    "path_dir = 'E:\\\\PycharmProjects\\\\Demo0410\\\\work_data_liziqi\\\\data'\n",
    "excel_file = 'shenghuo_comments_32741.xlsx'\n",
    "path_file = os.path.join(path_dir,excel_file)"
   ],
   "metadata": {
    "collapsed": false,
    "pycharm": {
     "name": "#%%\n"
    }
   }
  },
  {
   "cell_type": "code",
   "execution_count": 3,
   "outputs": [],
   "source": [
    "filter_df = pd.read_excel(path_file,usecols=['text','user_name','create_time','clean_text','cut_word','pos_word'])\n",
    "filter_df.index = (filter_df.reset_index()).index + 1"
   ],
   "metadata": {
    "collapsed": false,
    "pycharm": {
     "name": "#%% #将保存的文件读取为表格\n"
    }
   }
  },
  {
   "cell_type": "code",
   "execution_count": 4,
   "outputs": [],
   "source": [
    "word = []\n",
    "for line in filter_df['cut_word']:\n",
    "    line = line.split(' ')\n",
    "    for w in line:\n",
    "        if len(w) > 1:\n",
    "            if w not in word:\n",
    "                word.append(w)"
   ],
   "metadata": {
    "collapsed": false,
    "pycharm": {
     "name": "#%%\n"
    }
   }
  },
  {
   "cell_type": "code",
   "execution_count": 7,
   "outputs": [
    {
     "data": {
      "text/plain": "19975"
     },
     "execution_count": 7,
     "metadata": {},
     "output_type": "execute_result"
    }
   ],
   "source": [
    "len(word)"
   ],
   "metadata": {
    "collapsed": false,
    "pycharm": {
     "name": "#%%\n"
    }
   }
  },
  {
   "cell_type": "code",
   "execution_count": 10,
   "outputs": [],
   "source": [
    "def co_word_vector(word,line_lists):\n",
    "    word_vector = np.zeros([len(word),len(word)], dtype='float16')\n",
    "    #word_vector = coo_matrix((len(word),len(word)), dtype=np.int8).toarray()\n",
    "    print(f\"矩阵形状为：{word_vector.shape}\")\n",
    "    print(f\"不重复词数为：{len(word)}\")\n",
    "    print(f\"评论总数为：{len(line_lists)}\")\n",
    "    m = 1\n",
    "    for line in line_lists:\n",
    "\n",
    "        #去除读取行中的单字符。\n",
    "        line_list = line.split(' ')\n",
    "        nums = []\n",
    "        for w in line_list:\n",
    "            if len(w) > 1:\n",
    "                nums.append(w)\n",
    "\n",
    "        #循环遍历关键词所在位置 设置word_vector计数\n",
    "        i = 0\n",
    "        j = 0\n",
    "        while i<len(nums):         #ABCD共现 AB AC AD BC BD CD加1\n",
    "            j = i + 1\n",
    "            w1 = nums[i]           #第一个单词\n",
    "            while j<len(nums):\n",
    "                w2 = nums[j]       #第二个单词\n",
    "                #从word数组中找到单词对应的下标\n",
    "                k = 0\n",
    "                n1 = 0\n",
    "                while k<len(word):\n",
    "                    if w1==word[k]: #如果是自身与自身，则不做任何操作。\n",
    "                        n1 = k\n",
    "                        break\n",
    "                    k = k +1\n",
    "                #寻找第二个关键字位置\n",
    "                k = 0\n",
    "                n2 = 0\n",
    "                while k<len(word):\n",
    "                    if w2==word[k]:\n",
    "                        n2 = k\n",
    "                        break\n",
    "                    k = k +1\n",
    "                #重点: 词频矩阵赋值 只计算上三角\n",
    "                if n1<=n2:\n",
    "                    word_vector[n1][n2] = word_vector[n1][n2] + 1\n",
    "                else:\n",
    "                    word_vector[n2][n1] = word_vector[n2][n1] + 1\n",
    "                #print n1, n2, w1, w2\n",
    "                j = j + 1\n",
    "            i = i + 1\n",
    "        if m == 10000 or m == 20000 or m == 30000:\n",
    "            print(f'已处理{m}条评论，请稍等。')\n",
    "        m += 1\n",
    "    return word_vector\n",
    "def save_co_word_to_txt(word,word_vector,txt_name):\n",
    "    res = open(path_dir+'\\\\'+txt_name, \"a+\", encoding='utf-8')\n",
    "    i = 0\n",
    "    while i<len(word):\n",
    "        w1 = word[i]\n",
    "        j = 0\n",
    "        while j<len(word):\n",
    "            w2 = word[j]\n",
    "            #判断两个词是否共现 共现&词频不为0的写入文件\n",
    "            if word_vector[i][j]>0:\n",
    "                #print w1 +\" \" + w2 + \" \"+ str(int(word_vector[i][j]))\n",
    "                res.write(w1 +\" \" + w2 + \" \"+ str(int(word_vector[i][j]))  +  \"\\n\")\n",
    "            j = j + 1\n",
    "        i = i + 1\n",
    "    res.close()\n",
    "def save_co_word_to_csv(word,word_vector,csv_name):\n",
    "    c = open(path_dir+'\\\\'+csv_name,\"w\", encoding='utf-8', newline='')    #解决空行\n",
    "    #c.write(codecs.BOM_UTF8)                                 #防止乱码\n",
    "    writer = csv.writer(c)                                    #写入对象\n",
    "    writer.writerow(['Word1', 'Word2', 'Weight'])\n",
    "\n",
    "    i = 0\n",
    "    while i<len(word):\n",
    "        w1 = word[i]\n",
    "        j = 0\n",
    "        while j<len(word):\n",
    "            w2 = word[j]\n",
    "            #判断两个词是否共现 共现词频不为0的写入文件\n",
    "            if word_vector[i][j]>0:\n",
    "                #写入文件\n",
    "                templist = []\n",
    "                templist.append(w1)\n",
    "                templist.append(w2)\n",
    "                templist.append(str(int(word_vector[i][j])))\n",
    "                #print templist\n",
    "                writer.writerow(templist)\n",
    "            j = j + 1\n",
    "        i = i + 1\n",
    "    c.close()"
   ],
   "metadata": {
    "collapsed": false,
    "pycharm": {
     "name": "#%%\n"
    }
   }
  },
  {
   "cell_type": "code",
   "execution_count": 11,
   "outputs": [
    {
     "name": "stdout",
     "output_type": "stream",
     "text": [
      "(19975, 19975)\n",
      "19975\n",
      "32741\n"
     ]
    },
    {
     "ename": "KeyboardInterrupt",
     "evalue": "",
     "output_type": "error",
     "traceback": [
      "\u001B[1;31m---------------------------------------------------------------------------\u001B[0m",
      "\u001B[1;31mKeyboardInterrupt\u001B[0m                         Traceback (most recent call last)",
      "\u001B[1;32m<ipython-input-11-6c552a4f57c2>\u001B[0m in \u001B[0;36m<module>\u001B[1;34m\u001B[0m\n\u001B[1;32m----> 1\u001B[1;33m \u001B[0mword_vector1\u001B[0m \u001B[1;33m=\u001B[0m \u001B[0mco_word_vector\u001B[0m\u001B[1;33m(\u001B[0m\u001B[0mword\u001B[0m\u001B[1;33m,\u001B[0m\u001B[0mfilter_df\u001B[0m\u001B[1;33m[\u001B[0m\u001B[1;34m'cut_word'\u001B[0m\u001B[1;33m]\u001B[0m\u001B[1;33m)\u001B[0m\u001B[1;33m\u001B[0m\u001B[1;33m\u001B[0m\u001B[0m\n\u001B[0m\u001B[0;32m      2\u001B[0m \u001B[0mprint\u001B[0m\u001B[1;33m(\u001B[0m\u001B[1;34m'共现矩阵构建完毕'\u001B[0m\u001B[1;33m)\u001B[0m\u001B[1;33m\u001B[0m\u001B[1;33m\u001B[0m\u001B[0m\n\u001B[0;32m      3\u001B[0m \u001B[0mprint\u001B[0m\u001B[1;33m(\u001B[0m\u001B[0mtime\u001B[0m\u001B[1;33m.\u001B[0m\u001B[0mtime\u001B[0m\u001B[1;33m(\u001B[0m\u001B[1;33m)\u001B[0m\u001B[1;33m)\u001B[0m\u001B[1;33m\u001B[0m\u001B[1;33m\u001B[0m\u001B[0m\n\u001B[0;32m      4\u001B[0m \u001B[1;31m#save_co_word_to_txt(word,word_vector1,'co_word.txt')\u001B[0m\u001B[1;33m\u001B[0m\u001B[1;33m\u001B[0m\u001B[1;33m\u001B[0m\u001B[0m\n\u001B[0;32m      5\u001B[0m \u001B[1;31m#save_co_word_to_csv(word,word_vector1,'co_word.csv')\u001B[0m\u001B[1;33m\u001B[0m\u001B[1;33m\u001B[0m\u001B[1;33m\u001B[0m\u001B[0m\n",
      "\u001B[1;32m<ipython-input-10-ce52c5851689>\u001B[0m in \u001B[0;36mco_word_vector\u001B[1;34m(word, line_lists)\u001B[0m\n\u001B[0;32m     34\u001B[0m                 \u001B[0mn2\u001B[0m \u001B[1;33m=\u001B[0m \u001B[1;36m0\u001B[0m\u001B[1;33m\u001B[0m\u001B[1;33m\u001B[0m\u001B[0m\n\u001B[0;32m     35\u001B[0m                 \u001B[1;32mwhile\u001B[0m \u001B[0mk\u001B[0m\u001B[1;33m<\u001B[0m\u001B[0mlen\u001B[0m\u001B[1;33m(\u001B[0m\u001B[0mword\u001B[0m\u001B[1;33m)\u001B[0m\u001B[1;33m:\u001B[0m\u001B[1;33m\u001B[0m\u001B[1;33m\u001B[0m\u001B[0m\n\u001B[1;32m---> 36\u001B[1;33m                     \u001B[1;32mif\u001B[0m \u001B[0mw2\u001B[0m\u001B[1;33m==\u001B[0m\u001B[0mword\u001B[0m\u001B[1;33m[\u001B[0m\u001B[0mk\u001B[0m\u001B[1;33m]\u001B[0m\u001B[1;33m:\u001B[0m\u001B[1;33m\u001B[0m\u001B[1;33m\u001B[0m\u001B[0m\n\u001B[0m\u001B[0;32m     37\u001B[0m                         \u001B[0mn2\u001B[0m \u001B[1;33m=\u001B[0m \u001B[0mk\u001B[0m\u001B[1;33m\u001B[0m\u001B[1;33m\u001B[0m\u001B[0m\n\u001B[0;32m     38\u001B[0m                         \u001B[1;32mbreak\u001B[0m\u001B[1;33m\u001B[0m\u001B[1;33m\u001B[0m\u001B[0m\n",
      "\u001B[1;31mKeyboardInterrupt\u001B[0m: "
     ]
    }
   ],
   "source": [
    "word_vector1 = co_word_vector(word,filter_df['cut_word'])\n",
    "print('共现矩阵构建完毕。')\n",
    "print(time.time())\n",
    "save_co_word_to_txt(word,word_vector1,'co_word.txt')\n",
    "print('写入txt文件完毕。')\n",
    "print(time.time())\n",
    "save_co_word_to_csv(word,word_vector1,'co_word.csv')\n",
    "print('写入csv文件完毕。')\n",
    "print(time.time())"
   ],
   "metadata": {
    "collapsed": false,
    "pycharm": {
     "name": "#%%\n"
    }
   }
  },
  {
   "cell_type": "code",
   "execution_count": 6,
   "outputs": [],
   "source": [],
   "metadata": {
    "collapsed": false,
    "pycharm": {
     "name": "#%%\n"
    }
   }
  }
 ],
 "metadata": {
  "kernelspec": {
   "display_name": "Python 3",
   "language": "python",
   "name": "python3"
  },
  "language_info": {
   "codemirror_mode": {
    "name": "ipython",
    "version": 2
   },
   "file_extension": ".py",
   "mimetype": "text/x-python",
   "name": "python",
   "nbconvert_exporter": "python",
   "pygments_lexer": "ipython2",
   "version": "2.7.6"
  }
 },
 "nbformat": 4,
 "nbformat_minor": 0
}