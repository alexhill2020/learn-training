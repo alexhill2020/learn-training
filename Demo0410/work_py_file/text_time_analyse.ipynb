{
 "cells": [
  {
   "cell_type": "code",
   "execution_count": 56,
   "metadata": {
    "collapsed": true
   },
   "outputs": [],
   "source": [
    "import pandas as pd\n",
    "import os\n",
    "import numpy as np"
   ]
  },
  {
   "cell_type": "code",
   "execution_count": 35,
   "outputs": [],
   "source": [
    "path_dir = 'E:\\\\PycharmProjects\\\\Demo0410\\\\work_data_liziqi\\\\data'\n",
    "excel_file = 'shenghuo_comments_32741.xlsx'\n",
    "path_file = os.path.join(path_dir,excel_file)"
   ],
   "metadata": {
    "collapsed": false,
    "pycharm": {
     "name": "#%%  #导入文件。\n"
    }
   }
  },
  {
   "cell_type": "code",
   "execution_count": 38,
   "outputs": [],
   "source": [
    "shenghuo_comments_df = pd.read_excel(path_file,usecols=['text','user_name','create_time'])\n",
    "shenghuo_comments_df.index = shenghuo_comments_df.index + 1\n",
    "xiangwang_time_df = shenghuo_comments_df.loc[shenghuo_comments_df['text'].str.contains('向往', na=False)]  #选取其中包含“向往”一词的数据。\n",
    "xiangwang_time_df.index = (xiangwang_time_df.reset_index()).index + 1  #重新设置筛选后的数据框并使索引从1开始。"
   ],
   "metadata": {
    "collapsed": false,
    "pycharm": {
     "name": "#%%\n"
    }
   }
  },
  {
   "cell_type": "code",
   "execution_count": 89,
   "outputs": [
    {
     "name": "stderr",
     "output_type": "stream",
     "text": [
      "e:\\pycharmprojects\\demo0410\\venv\\lib\\site-packages\\ipykernel_launcher.py:1: SettingWithCopyWarning: \n",
      "A value is trying to be set on a copy of a slice from a DataFrame.\n",
      "Try using .loc[row_indexer,col_indexer] = value instead\n",
      "\n",
      "See the caveats in the documentation: https://pandas.pydata.org/pandas-docs/stable/user_guide/indexing.html#returning-a-view-versus-a-copy\n",
      "  \"\"\"Entry point for launching an IPython kernel.\n",
      "e:\\pycharmprojects\\demo0410\\venv\\lib\\site-packages\\ipykernel_launcher.py:2: SettingWithCopyWarning: \n",
      "A value is trying to be set on a copy of a slice from a DataFrame.\n",
      "Try using .loc[row_indexer,col_indexer] = value instead\n",
      "\n",
      "See the caveats in the documentation: https://pandas.pydata.org/pandas-docs/stable/user_guide/indexing.html#returning-a-view-versus-a-copy\n",
      "  \n"
     ]
    }
   ],
   "source": [
    "xiangwang_time_df['create_time'] = pd.to_datetime(xiangwang_time_df['create_time'],unit='s')  #利用pd.to_datatime方法将时间戳转换为日期、日间格式，参数unit='s'表示将原点时间设置为1970-01-01。\n",
    "xiangwang_time_df['year_month'] = xiangwang_time_df['create_time'].map(lambda x: 100*x.year + x.month)  #提取年份和月份，转换为类似于202105的格式。\n"
   ],
   "metadata": {
    "collapsed": false,
    "pycharm": {
     "name": "#%%\n"
    }
   }
  },
  {
   "cell_type": "code",
   "execution_count": 90,
   "outputs": [],
   "source": [
    "from collections import Counter\n",
    "data = Counter(xiangwang_time_df['year_month'])"
   ],
   "metadata": {
    "collapsed": false,
    "pycharm": {
     "name": "#%%\n"
    }
   }
  },
  {
   "cell_type": "code",
   "execution_count": 91,
   "outputs": [
    {
     "data": {
      "text/plain": "[201705,\n 201706,\n 201707,\n 201709,\n 201710,\n 201711,\n 201712,\n 201801,\n 201802,\n 201803,\n 201804,\n 201805,\n 201806,\n 201807,\n 201808,\n 201809,\n 201810,\n 201811,\n 201812,\n 201901,\n 201902,\n 201903,\n 201904,\n 201905,\n 201906,\n 201907,\n 201908,\n 201909,\n 201910,\n 201911,\n 201912,\n 202001,\n 202002,\n 202003,\n 202004,\n 202005,\n 202006,\n 202007,\n 202008,\n 202009,\n 202010,\n 202011,\n 202012,\n 202101,\n 202102,\n 202103,\n 202104]"
     },
     "execution_count": 91,
     "metadata": {},
     "output_type": "execute_result"
    }
   ],
   "source": [
    "s  = sorted(data)\n",
    "s"
   ],
   "metadata": {
    "collapsed": false,
    "pycharm": {
     "name": "#%%\n"
    }
   }
  },
  {
   "cell_type": "code",
   "execution_count": 92,
   "outputs": [
    {
     "name": "stdout",
     "output_type": "stream",
     "text": [
      "201705 1\n",
      "201706 1\n",
      "201707 1\n",
      "201709 38\n",
      "201710 166\n",
      "201711 37\n",
      "201712 87\n",
      "201801 44\n",
      "201802 41\n",
      "201803 40\n",
      "201804 47\n",
      "201805 144\n",
      "201806 114\n",
      "201807 217\n",
      "201808 53\n",
      "201809 37\n",
      "201810 89\n",
      "201811 61\n",
      "201812 31\n",
      "201901 118\n",
      "201902 28\n",
      "201903 76\n",
      "201904 66\n",
      "201905 120\n",
      "201906 159\n",
      "201907 134\n",
      "201908 183\n",
      "201909 151\n",
      "201910 97\n",
      "201911 100\n",
      "201912 186\n",
      "202001 161\n",
      "202002 225\n",
      "202003 107\n",
      "202004 211\n",
      "202005 136\n",
      "202006 316\n",
      "202007 242\n",
      "202008 350\n",
      "202009 337\n",
      "202010 495\n",
      "202011 125\n",
      "202012 81\n",
      "202101 147\n",
      "202102 113\n",
      "202103 39\n",
      "202104 74\n"
     ]
    }
   ],
   "source": [
    "list_time = []\n",
    "list_tnum = []\n",
    "for i in sorted(data):\n",
    "    print(i,data[i])\n",
    "    list_time.append(i)\n",
    "    list_tnum.append(data[i])\n"
   ],
   "metadata": {
    "collapsed": false,
    "pycharm": {
     "name": "#%%\n"
    }
   }
  },
  {
   "cell_type": "code",
   "execution_count": 93,
   "outputs": [
    {
     "data": {
      "text/plain": "47"
     },
     "execution_count": 93,
     "metadata": {},
     "output_type": "execute_result"
    }
   ],
   "source": [
    "len(list_tnum)"
   ],
   "metadata": {
    "collapsed": false,
    "pycharm": {
     "name": "#%%\n"
    }
   }
  },
  {
   "cell_type": "code",
   "execution_count": 72,
   "outputs": [
    {
     "data": {
      "text/plain": "<Figure size 432x288 with 1 Axes>",
      "image/png": "[encoded data removed]"
     },
     "metadata": {
      "needs_background": "light"
     },
     "output_type": "display_data"
    }
   ],
   "source": [
    "import matplotlib.pyplot as plt\n",
    "N = 47\n",
    "ind = np.arange(N)\n",
    "width=0.2\n",
    "plt.bar(ind, list_tnum, width, color='r', label='hour')\n",
    "plt.xticks(ind, list_time, rotation=90)\n",
    "plt.title(\"The Eastmount's blog is distributed by the hour\")\n",
    "plt.xlabel('data')\n",
    "plt.ylabel('numbers')\n",
    "#plt.savefig('Eastmount-01.png',dpi=400)\n",
    "plt.show()\n"
   ],
   "metadata": {
    "collapsed": false,
    "pycharm": {
     "name": "#%%  #将分步频率通过matplotlib展示。图没有pyecharts的好看。\n"
    }
   }
  },
  {
   "cell_type": "code",
   "execution_count": 100,
   "outputs": [
    {
     "data": {
      "text/plain": "'E:\\\\PycharmProjects\\\\Demo0410\\\\work_data_liziqi\\\\data\\\\“向往”一词出现频率按月份分布.html'"
     },
     "execution_count": 100,
     "metadata": {},
     "output_type": "execute_result"
    }
   ],
   "source": [
    "from pyecharts import options as opts\n",
    "from pyecharts.charts import Bar\n",
    "\n",
    "bar=(\n",
    "    Bar()\n",
    "        .add_xaxis(list_time)\n",
    "        .add_yaxis(\"次数\", list_tnum, color=\"blue\")\n",
    "        .set_global_opts(title_opts=opts.TitleOpts(\n",
    "            title='“向往”一词出现频率按月份分布', subtitle=\"month\"),\n",
    "        xaxis_opts=opts.AxisOpts(axislabel_opts=opts.LabelOpts(\n",
    "            # is_show=True 是否显示标签\n",
    "            is_show=True,\n",
    "            # position 标签的位置 可选 'top'，'left'，'right'，'bottom'，'inside'，'insideLeft'，'insideRight'.....\n",
    "            position='bottom',\n",
    "            # font_size 文字的字体大小\n",
    "            font_size=10,\n",
    "            # color 文字的颜色\n",
    "            #color= '#FF6633',\n",
    "            # font_style 文字字体的风格，可选 'normal'，'italic'，'oblique'\n",
    "            #font_style = 'italic' , #斜体\n",
    "            # font_weight 文字字体的粗细  'normal'，'bold'，'bolder'，'lighter'\n",
    "            font_weight = None,\n",
    "            # font_family 字体 'Arial', 'Courier New', 'Microsoft YaHei（微软雅黑）' ....\n",
    "            font_family = None,\n",
    "            # rotate 标签旋转 从 -90 度到 90 度。正值是逆时针\n",
    "            rotate = '90',\n",
    "            # margin 刻度标签与轴线之间的距离\n",
    "            margin = 20,\n",
    "            # 坐标轴刻度标签的显示间隔，在类目轴中有效。Union[Numeric, str, None]\n",
    "            # 默认会采用标签不重叠的策略间隔显示标签。\n",
    "            # 可以设置成 0 强制显示所有标签。\n",
    "            # 如果设置为 1，表示『隔一个标签显示一个标签』，如果值为 2，表示隔两个标签显示一个标签，以此类推。\n",
    "            # 可以用数值表示间隔的数据，也可以通过回调函数控制。回调函数格式如下：\n",
    "            # (index:number, value: string) => boolean\n",
    "            # 第一个参数是类目的 index，第二个值是类目名称，如果跳过则返回 false。\n",
    "            interval = None,\n",
    "            # horizontal_align 文字水平对齐方式，默认自动。可选：'left'，'center'，'right'\n",
    "            horizontal_align = 'center',\n",
    "            # vertical_align 文字垂直对齐方式，默认自动。可选：'top'，'middle'，'bottom'\n",
    "            vertical_align = None,\n",
    "        ))\n",
    "    )\n",
    "    )\n",
    "bar.render(path_dir + '\\\\' +'“向往”一词出现频率按月份分布.html')\n"
   ],
   "metadata": {
    "collapsed": false,
    "pycharm": {
     "name": "#%%  #将分步频率在pyecharts中展示。试验证明，pyecharts效果非常好。\n"
    }
   }
  },
  {
   "cell_type": "code",
   "execution_count": null,
   "outputs": [],
   "source": [],
   "metadata": {
    "collapsed": false,
    "pycharm": {
     "name": "#%%\n"
    }
   }
  }
 ],
 "metadata": {
  "kernelspec": {
   "display_name": "Python 3",
   "language": "python",
   "name": "python3"
  },
  "language_info": {
   "codemirror_mode": {
    "name": "ipython",
    "version": 2
   },
   "file_extension": ".py",
   "mimetype": "text/x-python",
   "name": "python",
   "nbconvert_exporter": "python",
   "pygments_lexer": "ipython2",
   "version": "2.7.6"
  }
 },
 "nbformat": 4,
 "nbformat_minor": 0
}