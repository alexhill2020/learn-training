{
 "cells": [
  {
   "cell_type": "code",
   "execution_count": 1,
   "metadata": {
    "collapsed": true
   },
   "outputs": [],
   "source": [
    "import pandas as pd\n",
    "import os\n",
    "import numpy as np"
   ]
  },
  {
   "cell_type": "code",
   "execution_count": 2,
   "outputs": [],
   "source": [
    "path_dir = 'E:\\\\PycharmProjects\\\\Demo0410\\\\work_data_liziqi\\\\data'\n",
    "excel_file = 'shenghuo_comments_36333.xlsx'\n",
    "path_file = os.path.join(path_dir,excel_file)"
   ],
   "metadata": {
    "collapsed": false,
    "pycharm": {
     "name": "#%%  #导入文件。\n"
    }
   }
  },
  {
   "cell_type": "code",
   "execution_count": 3,
   "outputs": [],
   "source": [
    "shenghuo_comments_df = pd.read_excel(path_file,usecols=['title','text','user_name','create_time'])\n",
    "shenghuo_comments_df.index = shenghuo_comments_df.index + 1\n",
    "xiangwang_time_df = shenghuo_comments_df.loc[shenghuo_comments_df['text'].str.contains('向往', na=False)]  #选取其中包含“向往”一词的数据。\n",
    "xiangwang_time_df.index = (xiangwang_time_df.reset_index()).index + 1  #重新设置筛选后的数据框并使索引从1开始。"
   ],
   "metadata": {
    "collapsed": false,
    "pycharm": {
     "name": "#%%  #读取筛选后的评论数据，并查找包含“向往”二字的评论，构建一个数据表。\n"
    }
   }
  },
  {
   "cell_type": "code",
   "execution_count": 4,
   "outputs": [
    {
     "data": {
      "text/plain": "                              title  num\n1      「好蟹抢先加购」玲珑熟醉蟹，别样的秋冬“甜品”，鲜香满溢   14\n2              【朝花柒拾鲜花饼】玫………瑰花…的一生？   14\n3    【柳州螺蛳粉】吃得满足，嗦得过瘾，辣得舒坦，就一碗柳州螺蛳粉   79\n4    【桂花坚果藕粉】大颗坚果，桂花飘香，老人小孩都爱的传统甜品！   19\n5            【红豆薏米粉】夏天贪凉必备，老人口口念叨的好   31\n..                              ...  ...\n107      面条又薄又宽，浇上香浓的鲜美汤汁，来一碗山西刀削面吧    1\n108           驱散湿气的暖胃汤锅，番茄牛腩带来的味觉盛宴   57\n109        骑马踏青，取花为食，才不辜负春日好时节——上巳节   91\n110               黄瓜正当季，那就变着法来吃个黄瓜吧  176\n111                龙舟枕头粽，端午记得回家吃粽子~   22\n\n[111 rows x 2 columns]",
      "text/html": "<div>\n<style scoped>\n    .dataframe tbody tr th:only-of-type {\n        vertical-align: middle;\n    }\n\n    .dataframe tbody tr th {\n        vertical-align: top;\n    }\n\n    .dataframe thead th {\n        text-align: right;\n    }\n</style>\n<table border=\"1\" class=\"dataframe\">\n  <thead>\n    <tr style=\"text-align: right;\">\n      <th></th>\n      <th>title</th>\n      <th>num</th>\n    </tr>\n  </thead>\n  <tbody>\n    <tr>\n      <th>1</th>\n      <td>「好蟹抢先加购」玲珑熟醉蟹，别样的秋冬“甜品”，鲜香满溢</td>\n      <td>14</td>\n    </tr>\n    <tr>\n      <th>2</th>\n      <td>【朝花柒拾鲜花饼】玫………瑰花…的一生？</td>\n      <td>14</td>\n    </tr>\n    <tr>\n      <th>3</th>\n      <td>【柳州螺蛳粉】吃得满足，嗦得过瘾，辣得舒坦，就一碗柳州螺蛳粉</td>\n      <td>79</td>\n    </tr>\n    <tr>\n      <th>4</th>\n      <td>【桂花坚果藕粉】大颗坚果，桂花飘香，老人小孩都爱的传统甜品！</td>\n      <td>19</td>\n    </tr>\n    <tr>\n      <th>5</th>\n      <td>【红豆薏米粉】夏天贪凉必备，老人口口念叨的好</td>\n      <td>31</td>\n    </tr>\n    <tr>\n      <th>...</th>\n      <td>...</td>\n      <td>...</td>\n    </tr>\n    <tr>\n      <th>107</th>\n      <td>面条又薄又宽，浇上香浓的鲜美汤汁，来一碗山西刀削面吧</td>\n      <td>1</td>\n    </tr>\n    <tr>\n      <th>108</th>\n      <td>驱散湿气的暖胃汤锅，番茄牛腩带来的味觉盛宴</td>\n      <td>57</td>\n    </tr>\n    <tr>\n      <th>109</th>\n      <td>骑马踏青，取花为食，才不辜负春日好时节——上巳节</td>\n      <td>91</td>\n    </tr>\n    <tr>\n      <th>110</th>\n      <td>黄瓜正当季，那就变着法来吃个黄瓜吧</td>\n      <td>176</td>\n    </tr>\n    <tr>\n      <th>111</th>\n      <td>龙舟枕头粽，端午记得回家吃粽子~</td>\n      <td>22</td>\n    </tr>\n  </tbody>\n</table>\n<p>111 rows × 2 columns</p>\n</div>"
     },
     "execution_count": 4,
     "metadata": {},
     "output_type": "execute_result"
    }
   ],
   "source": [
    "xiangwang_title_df = xiangwang_time_df.groupby(['title'])\n",
    "xiangwang_num = dict(xiangwang_title_df.size())\n",
    "xiangwang_num_df = (pd.DataFrame.from_dict(xiangwang_num,orient='index')).reset_index(drop=False)\n",
    "xiangwang_num_df.rename(columns = {'index':'title',0:'num'},inplace=True)\n",
    "xiangwang_num_df.index = xiangwang_num_df.index + 1\n",
    "#xiangwang_num_df.to_excel(path_dir + '\\\\' + 'xiangwang_frq.xlsx')\n",
    "xiangwang_num_df"
   ],
   "metadata": {
    "collapsed": false,
    "pycharm": {
     "name": "#%%  #按照视频标题进行分组，并计算每组评论个数，将数据导入到一个新表中。\n"
    }
   }
  },
  {
   "cell_type": "code",
   "execution_count": 5,
   "outputs": [
    {
     "name": "stderr",
     "output_type": "stream",
     "text": [
      "e:\\pycharmprojects\\demo0410\\venv\\lib\\site-packages\\ipykernel_launcher.py:9: SettingWithCopyWarning: \n",
      "A value is trying to be set on a copy of a slice from a DataFrame.\n",
      "Try using .loc[row_indexer,col_indexer] = value instead\n",
      "\n",
      "See the caveats in the documentation: https://pandas.pydata.org/pandas-docs/stable/user_guide/indexing.html#returning-a-view-versus-a-copy\n",
      "  if __name__ == '__main__':\n",
      "e:\\pycharmprojects\\demo0410\\venv\\lib\\site-packages\\ipykernel_launcher.py:11: SettingWithCopyWarning: \n",
      "A value is trying to be set on a copy of a slice from a DataFrame.\n",
      "Try using .loc[row_indexer,col_indexer] = value instead\n",
      "\n",
      "See the caveats in the documentation: https://pandas.pydata.org/pandas-docs/stable/user_guide/indexing.html#returning-a-view-versus-a-copy\n",
      "  # This is added back by InteractiveShellApp.init_path()\n"
     ]
    }
   ],
   "source": [
    "all_video = pd.read_excel('E:\\\\PycharmProjects\\\\Demo0410\\work_data_liziqi\\\\李子柒今日头条视频数据采集\\\\李子柒全部视频信息.xlsx')\n",
    "title_list = list(xiangwang_num_df['title'])\n",
    "filter_all_video_df = all_video.loc[all_video['标题'].isin(title_list)]  #在dataframe中查找指定list列表中的行。\n",
    "num_list = []\n",
    "for i in filter_all_video_df['标题']:\n",
    "    num = xiangwang_num_df[xiangwang_num_df['title'] == i]['num']\n",
    "    num = num.to_list()  #将查找出的series转换为列表。\n",
    "    num_list.append(num[0])\n",
    "filter_all_video_df['num'] = num_list  #将num_list加入到表格中。\n",
    "filter_all_video_df.index = ((filter_all_video_df.reset_index()).index) + 1  #重新设置索引。\n",
    "filter_all_video_df['id'] = filter_all_video_df['id'].map(str)  #将id列的数值转换为字符串。\n",
    "filter_all_video_df.to_excel(path_dir+'\\\\'+'向往_frq_time.xlsx')\n"
   ],
   "metadata": {
    "collapsed": false,
    "pycharm": {
     "name": "#%%  #导入视频总表，并进行筛选，\n"
    }
   }
  },
  {
   "cell_type": "code",
   "execution_count": 6,
   "outputs": [],
   "source": [
    "xiangwang_video_100 = filter_all_video_df[filter_all_video_df['num'] >= 100]\n",
    "xiangwang_video_100 = xiangwang_video_100.sort_values(axis=0,ascending=True,by=['发布时间'])  #对表格按时间先后顺序进行排序。\n",
    "xiangwang_video_100.index = ((xiangwang_video_100.reset_index()).index) + 1\n",
    "#xiangwang_video_100['id'] = xiangwang_video_100['id'].map(str)  #将id列的数值转换为字符串。\n",
    "xiangwang_video_100.to_excel(path_dir+'\\\\'+'向往_frq_100_time.xlsx')"
   ],
   "metadata": {
    "collapsed": false,
    "pycharm": {
     "name": "#%% #继续筛选，筛选“向往”字符出现超过100次的视频。\n"
    }
   }
  },
  {
   "cell_type": "code",
   "execution_count": 7,
   "outputs": [],
   "source": [
    "list_time = []\n",
    "for time in xiangwang_video_100['发布时间']:\n",
    "    time = time.year*10000 + time.month*100 + time.day\n",
    "    list_time.append(time)\n",
    "list_num = list(xiangwang_video_100['num'])"
   ],
   "metadata": {
    "collapsed": false,
    "pycharm": {
     "name": "#%%  #提取进行可视化时间与数量。\n"
    }
   }
  },
  {
   "cell_type": "code",
   "execution_count": 7,
   "outputs": [],
   "source": [
    "\n",
    "\n",
    "\n"
   ],
   "metadata": {
    "collapsed": false,
    "pycharm": {
     "name": "#%%\n"
    }
   }
  },
  {
   "cell_type": "code",
   "execution_count": 8,
   "outputs": [
    {
     "data": {
      "text/plain": "\"\\nall_video = pd.read_excel('E:\\\\PycharmProjects\\\\Demo0410\\\\work_data_liziqi\\\\李子柒今日头条视频数据采集\\\\李子柒全部视频信息.xlsx',index_col=0)\\ndate = []\\nfor t in xiangwang_num_df['title']:\\n    d = all_video[all_video['标题'] == t]['发布时间']  #查找表格all_video“标题”列t元素所在行的发布时间。\\n    d = d.to_list()  #查出结果为一个序列，将此序列转换为列表，以进行后续处理。\\n    date.append(d[0])  #此列表只有唯一的一个元素，将此元素加入总列表。\\nxiangwang_num_df['date'] = date  #将时间列表加入表格中。\\n#xiangwang_num_df\\n\""
     },
     "execution_count": 8,
     "metadata": {},
     "output_type": "execute_result"
    }
   ],
   "source": [
    "'''\n",
    "all_video = pd.read_excel('E:\\\\PycharmProjects\\\\Demo0410\\work_data_liziqi\\\\李子柒今日头条视频数据采集\\\\李子柒全部视频信息.xlsx',index_col=0)\n",
    "date = []\n",
    "for t in xiangwang_num_df['title']:\n",
    "    d = all_video[all_video['标题'] == t]['发布时间']  #查找表格all_video“标题”列t元素所在行的发布时间。\n",
    "    d = d.to_list()  #查出结果为一个序列，将此序列转换为列表，以进行后续处理。\n",
    "    date.append(d[0])  #此列表只有唯一的一个元素，将此元素加入总列表。\n",
    "xiangwang_num_df['date'] = date  #将时间列表加入表格中。\n",
    "#xiangwang_num_df\n",
    "'''"
   ],
   "metadata": {
    "collapsed": false,
    "pycharm": {
     "name": "#%%  #寻找视频标题所对应的发布时间。\n"
    }
   }
  },
  {
   "cell_type": "code",
   "execution_count": 9,
   "outputs": [
    {
     "data": {
      "text/plain": "\"\\ndef date_to_int(i):\\n    y = i.year*10000 + i.month*100 + i.day\\n    return y\\nxiangwang_num_df['date_int'] = xiangwang_num_df['date'].map(date_to_int)\\nxiangwang_num_df.to_excel(path_dir+'\\\\'+'xiangwang_frq_time.xlsx')\\n\""
     },
     "execution_count": 9,
     "metadata": {},
     "output_type": "execute_result"
    }
   ],
   "source": [
    "'''\n",
    "def date_to_int(i):\n",
    "    y = i.year*10000 + i.month*100 + i.day\n",
    "    return y\n",
    "xiangwang_num_df['date_int'] = xiangwang_num_df['date'].map(date_to_int)\n",
    "xiangwang_num_df.to_excel(path_dir+'\\\\'+'xiangwang_frq_time.xlsx')\n",
    "'''"
   ],
   "metadata": {
    "collapsed": false,
    "pycharm": {
     "name": "#%%  #将日期格式转换为数字格式。\n"
    }
   }
  },
  {
   "cell_type": "code",
   "execution_count": 9,
   "outputs": [],
   "source": [],
   "metadata": {
    "collapsed": false,
    "pycharm": {
     "name": "#%%\n"
    }
   }
  },
  {
   "cell_type": "code",
   "execution_count": 10,
   "outputs": [
    {
     "data": {
      "text/plain": "\"\\nxiangwang_time_df['create_time'] = pd.to_datetime(xiangwang_time_df['create_time'],unit='s')  #利用pd.to_datatime方法将时间戳转换为日期、日间格式，参数unit='s'表示将原点时间设置为1970-01-01。\\nxiangwang_time_df['year_month'] = xiangwang_time_df['create_time'].map(lambda x: 100*x.year + x.month)  #提取年份和月份，转换为类似于202105的格式。\\n\\nfrom collections import Counter\\ndata = Counter(xiangwang_time_df['year_month'])\\n\\ns  = sorted(data)\\ns\\n\\nlist_time = []\\nlist_tnum = []\\nfor i in sorted(data):\\n    print(i,data[i])\\n    list_time.append(i)\\n    list_tnum.append(data[i])\\n\""
     },
     "execution_count": 10,
     "metadata": {},
     "output_type": "execute_result"
    }
   ],
   "source": [
    "'''\n",
    "xiangwang_time_df['create_time'] = pd.to_datetime(xiangwang_time_df['create_time'],unit='s')  #利用pd.to_datatime方法将时间戳转换为日期、日间格式，参数unit='s'表示将原点时间设置为1970-01-01。\n",
    "xiangwang_time_df['year_month'] = xiangwang_time_df['create_time'].map(lambda x: 100*x.year + x.month)  #提取年份和月份，转换为类似于202105的格式。\n",
    "\n",
    "from collections import Counter\n",
    "data = Counter(xiangwang_time_df['year_month'])\n",
    "\n",
    "s  = sorted(data)\n",
    "s\n",
    "\n",
    "list_time = []\n",
    "list_tnum = []\n",
    "for i in sorted(data):\n",
    "    print(i,data[i])\n",
    "    list_time.append(i)\n",
    "    list_tnum.append(data[i])\n",
    "'''"
   ],
   "metadata": {
    "collapsed": false,
    "pycharm": {
     "name": "#%%\n"
    }
   }
  },
  {
   "cell_type": "code",
   "execution_count": 72,
   "outputs": [
    {
     "data": {
      "text/plain": "<Figure size 432x288 with 1 Axes>",
      "image/png": "[encoded data removed]"
     },
     "metadata": {
      "needs_background": "light"
     },
     "output_type": "display_data"
    }
   ],
   "source": [
    "import matplotlib.pyplot as plt\n",
    "N = 47\n",
    "ind = np.arange(N)\n",
    "width=0.2\n",
    "plt.bar(ind, list_num, width, color='r', label='hour')\n",
    "plt.xticks(ind, list_time, rotation=90)\n",
    "plt.title(\"The Eastmount's blog is distributed by the hour\")\n",
    "plt.xlabel('data')\n",
    "plt.ylabel('numbers')\n",
    "#plt.savefig('Eastmount-01.png',dpi=400)\n",
    "plt.show()\n"
   ],
   "metadata": {
    "collapsed": false,
    "pycharm": {
     "name": "#%%  #将分步频率通过matplotlib展示。图没有pyecharts的好看。\n"
    }
   }
  },
  {
   "cell_type": "code",
   "execution_count": 11,
   "outputs": [
    {
     "data": {
      "text/plain": "'E:\\\\PycharmProjects\\\\Demo0410\\\\work_data_liziqi\\\\data\\\\“向往”一词在各视频中出现的频率分布图.html'"
     },
     "execution_count": 11,
     "metadata": {},
     "output_type": "execute_result"
    }
   ],
   "source": [
    "from pyecharts import options as opts\n",
    "from pyecharts.charts import Bar\n",
    "\n",
    "bar=(\n",
    "    Bar()\n",
    "        .add_xaxis(list_time)\n",
    "        .add_yaxis(\"次数\", list_num, color=\"black\")\n",
    "        .set_global_opts(title_opts=opts.TitleOpts(\n",
    "            title='单条视频中“向往”一词出现频率', subtitle=\"横坐标为发布视频的时间\"),\n",
    "        xaxis_opts=opts.AxisOpts(axislabel_opts=opts.LabelOpts(\n",
    "            # is_show=True 是否显示标签\n",
    "            is_show=True,\n",
    "            # position 标签的位置 可选 'top'，'left'，'right'，'bottom'，'inside'，'insideLeft'，'insideRight'.....\n",
    "            position='bottom',\n",
    "            # font_size 文字的字体大小\n",
    "            font_size=10,\n",
    "            # color 文字的颜色\n",
    "            #color= '#FF6633',\n",
    "            # font_style 文字字体的风格，可选 'normal'，'italic'，'oblique'\n",
    "            #font_style = 'italic' , #斜体\n",
    "            # font_weight 文字字体的粗细  'normal'，'bold'，'bolder'，'lighter'，不设置则为None。\n",
    "            font_weight = 'bold',\n",
    "            # font_family 字体 'Arial', 'Courier New', 'Microsoft YaHei（微软雅黑）' ....\n",
    "            font_family = None,\n",
    "            # rotate 标签旋转 从 -90 度到 90 度。正值是逆时针\n",
    "            rotate = '20',\n",
    "            # margin 刻度标签与轴线之间的距离\n",
    "            margin = 25,\n",
    "            # 坐标轴刻度标签的显示间隔，在类目轴中有效。Union[Numeric, str, None]\n",
    "            # 默认会采用标签不重叠的策略间隔显示标签。\n",
    "            # 可以设置成 0 强制显示所有标签。\n",
    "            # 如果设置为 1，表示『隔一个标签显示一个标签』，如果值为 2，表示隔两个标签显示一个标签，以此类推。\n",
    "            # 可以用数值表示间隔的数据，也可以通过回调函数控制。回调函数格式如下：\n",
    "            # (index:number, value: string) => boolean\n",
    "            # 第一个参数是类目的 index，第二个值是类目名称，如果跳过则返回 false。\n",
    "            interval = None,\n",
    "            # horizontal_align 文字水平对齐方式，默认自动。可选：'left'，'center'，'right'\n",
    "            horizontal_align = 'center',\n",
    "            # vertical_align 文字垂直对齐方式，默认自动。可选：'top'，'middle'，'bottom'\n",
    "            vertical_align = None,\n",
    "        ))\n",
    "    )\n",
    "    )\n",
    "bar.render(path_dir + '\\\\' +'“向往”一词在各视频中出现的频率分布图.html')\n"
   ],
   "metadata": {
    "collapsed": false,
    "pycharm": {
     "name": "#%%  #将分步频率在pyecharts中展示。试验证明，pyecharts效果非常好。\n"
    }
   }
  },
  {
   "cell_type": "code",
   "execution_count": null,
   "outputs": [],
   "source": [],
   "metadata": {
    "collapsed": false,
    "pycharm": {
     "name": "#%%\n"
    }
   }
  }
 ],
 "metadata": {
  "kernelspec": {
   "display_name": "Python 3",
   "language": "python",
   "name": "python3"
  },
  "language_info": {
   "codemirror_mode": {
    "name": "ipython",
    "version": 2
   },
   "file_extension": ".py",
   "mimetype": "text/x-python",
   "name": "python",
   "nbconvert_exporter": "python",
   "pygments_lexer": "ipython2",
   "version": "2.7.6"
  }
 },
 "nbformat": 4,
 "nbformat_minor": 0
}