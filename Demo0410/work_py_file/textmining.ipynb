{
 "cells": [
  {
   "cell_type": "code",
   "execution_count": 1,
   "metadata": {
    "collapsed": true
   },
   "outputs": [],
   "source": [
    "import pandas as pd\n",
    "import os\n",
    "import re\n",
    "import jieba.posseg as pseg\n",
    "import jieba\n",
    "import jieba.analyse\n",
    "from collections import Counter  #导入collections模块中的counter动作以进行词频统计。\n",
    "import numpy as np\n",
    "import csv\n",
    "from scipy.sparse import coo_matrix"
   ]
  },
  {
   "cell_type": "code",
   "execution_count": 2,
   "outputs": [],
   "source": [
    "path_dir = 'E:\\\\PycharmProjects\\\\Demo0410\\\\work_data_liziqi\\\\data'\n",
    "excel_file = 'liziqi_total_comments_461260.xlsx'\n",
    "path_file = os.path.join(path_dir,excel_file)\n",
    "new_words = 'E:\\\\PycharmProjects\\\\Demo0410\\\\work_data_liziqi\\\\new_words.txt'    #自定义词典。\n",
    "stop_words = 'E:\\\\PycharmProjects\\\\Demo0410\\\\work_data_liziqi\\\\stop_words.txt'    #停用词词典。\n",
    "re_expression = '\\\\n|\\\\[.{1,8}\\\\]|[^\\\\u4e00-\\\\u9fa5]'"
   ],
   "metadata": {
    "collapsed": false,
    "pycharm": {
     "name": "#%%  #文件路径及必要参数\n"
    }
   }
  },
  {
   "cell_type": "code",
   "execution_count": null,
   "outputs": [],
   "source": [
    "df_corpus_comments = pd.read_excel(path_file,index_col=0,sheet_name=0)\n",
    "current_df_comments = pd.DataFrame(df_corpus_comments,columns=['text','user_name','create_time'])  #在原始语料表中选择指定列形成新表。"
   ],
   "metadata": {
    "collapsed": false,
    "pycharm": {
     "name": "#%%  #读取excel文件到pandas，并重置索引。\n"
    }
   }
  },
  {
   "cell_type": "code",
   "execution_count": null,
   "outputs": [],
   "source": [
    "def clean_text(text):\n",
    "    pattern = re.compile(f'{re_expression}')\n",
    "    text = re.sub(pattern,'',str(text))  #这里要把text转换为字符串，否则会报错TypeError: expected string or bytes-like object\n",
    "    return text\n",
    "\n",
    "current_df_comments['clean_text'] = current_df_comments['text'].apply(clean_text)"
   ],
   "metadata": {
    "collapsed": false,
    "pycharm": {
     "name": "#%%  #对每行文本进行清理，仅保留中文字符。\n"
    }
   }
  },
  {
   "cell_type": "code",
   "execution_count": null,
   "outputs": [],
   "source": [
    "df_comments = current_df_comments.drop(current_df_comments[current_df_comments['clean_text'].map(len) < 2].index )  #删除df_comments表'clean_text'列中字符串长度小于2的列，.index表示此值所在的行索引值。\n",
    "df_comments.index = df_comments.reset_index(drop=True).index + 1  #从1开始重新设置索引。"
   ],
   "metadata": {
    "collapsed": false,
    "pycharm": {
     "name": "#%%  #文本清理后删除长度为小于2的行。\n"
    }
   }
  },
  {
   "cell_type": "code",
   "execution_count": null,
   "outputs": [],
   "source": [
    "jieba.load_userdict(new_words)    #加载自定义词典。\n",
    "stopwords = [line.strip() for line in open(stop_words, encoding='UTF-8').readlines()]\n",
    "def cut_word(text,stopwords):\n",
    "    cut_word = pseg.lcut(text)\n",
    "    cut_word_pair_list = []  #既包含词又包含词性的列表。\n",
    "    for word_pair in cut_word:\n",
    "        if word_pair.word not in stopwords:  #去除停用词，tagging_word.word为取tagging_word这个pair元组里word的值。\n",
    "            cut_word_pair_list.append(word_pair)\n",
    "    cut_word_word = ''  #只包含词，不包含词性。\n",
    "    for word in cut_word_pair_list:\n",
    "        cut_word_word = cut_word_word + word.word\n",
    "        cut_word_word = cut_word_word + ' '\n",
    "    return cut_word_word,cut_word_pair_list\n",
    "\n",
    "df_comments[['cut_word']],df_comments[['pos_word']] = zip(*df_comments['clean_text'].apply(cut_word,args=(stopwords,)))  #使用zip打包返回结果来处理。返回两个值，同时赋给dataframe中两列。\n",
    "#df_comments.to_excel(path_dir+'\\\\'+'分词且标注词性（共460343条）.xlsx')  #存入excel文档。\n",
    "\n",
    "'''  #这里是取pos_word中的值。\n",
    "s = new_dataframe['pos_word']\n",
    "for i in s:\n",
    "    for m in i:\n",
    "        print(m)  #此时m是个pair。\n",
    "'''"
   ],
   "metadata": {
    "collapsed": false,
    "pycharm": {
     "name": "#%%  #对清理后的各条文本进行分词。\n"
    }
   }
  },
  {
   "cell_type": "code",
   "execution_count": null,
   "outputs": [],
   "source": [
    "pos_word_list = []  #将所有词性对添加为一个列表。\n",
    "for line in df_comments['pos_word']:\n",
    "    for word in line:\n",
    "        pos_word_list.append(word)\n",
    "pos_word_list = list(set(pos_word_list)) #先列表去重，转换为set集合，再重新转换为列表。\n",
    "pos_word_dict = {}  #将词性list pair转变为字典，但要注意，列表里一个词可能有多个词性（主要是标注的时候模糊了），因此字典的长度要小于列表的长度。字典不能有重复的键，相当于自动去重。\n",
    "for pair in pos_word_list:\n",
    "    pair = list(pair)\n",
    "    pos_word_dict[pair[0]] = pair[1]"
   ],
   "metadata": {
    "collapsed": false,
    "pycharm": {
     "name": "#%%  #构建一个包含词性的词列表，并将其转换为字典。\n"
    }
   }
  },
  {
   "cell_type": "code",
   "execution_count": null,
   "outputs": [],
   "source": [
    "all_text = ''.join(df_comments['cut_word'])\n",
    "all_text_list = all_text.split(' ')\n",
    "word_frq = dict(Counter(all_text_list))\n",
    "word_frq_sorted = sorted(word_frq.items(), key=lambda x: x[1],reverse=True)"
   ],
   "metadata": {
    "collapsed": false,
    "pycharm": {
     "name": "#%%  ##统计全部评论的词频。\n"
    }
   }
  },
  {
   "cell_type": "code",
   "execution_count": null,
   "outputs": [],
   "source": [
    "pos = ['ns','nr', 'n', 'nt','nw','nz','vn', 'vd','v','a','ad','an','d','t'] #指定词性种类。\n",
    "word_frq_list = []\n",
    "for word in word_frq_sorted:\n",
    "    if len(word[0]) > 1:  #如果字符长度大于1（非单字）。\n",
    "        if pos_word_dict[word[0]] in pos:  #如果词性在指定的范围内。\n",
    "            word_frq_list.append(word)\n",
    "word_frq_df = pd.DataFrame(word_frq_list,columns=['word','frequency'])\n",
    "word_frq_df.index = word_frq_df.index + 1\n",
    "#word_frq_df.to_excel(path_dir+'\\\\'+'word_frq_66109.xlsx')"
   ],
   "metadata": {
    "collapsed": false,
    "pycharm": {
     "name": "#%%  #对要展示的词频进行清理，删除字符长度小于1的词频，删除非选定词性的词频。\n"
    }
   }
  },
  {
   "cell_type": "code",
   "execution_count": null,
   "outputs": [],
   "source": [
    "jieba.analyse.set_idf_path('idf.txt.big')\n",
    "keywords = jieba.analyse.extract_tags(all_text,topK=1000,allowPOS=('ns','nr', 'n', 'nt','nw','nz','vn', 'vd','v','a','ad','an','d','t'),withWeight=True)\n",
    "keywords_df = pd.DataFrame(keywords,columns=['keywords','weight'])\n",
    "keywords_df.index = keywords_df.index + 1\n",
    "#keywords_df.to_excel(path_dir+'\\\\'+'keywords.xlsx')"
   ],
   "metadata": {
    "collapsed": false,
    "pycharm": {
     "name": "#%%  #提取全部评论的关键词。\n"
    }
   }
  },
  {
   "cell_type": "code",
   "execution_count": null,
   "outputs": [],
   "source": [
    "filtered_df = df_comments.loc[df_comments['text'].str.contains('生活', na=False)]   #在包括全部数据的表格中进行筛选，形成新表。\n",
    "filtered_df.index = filtered_df.reset_index(drop=True).index + 1  #重新设置索引。\n",
    "#filtered_df.to_excel(path_dir+'\\\\'+'shenghuo_comments.xlsx') #将筛选后的数据保存到excel文档。"
   ],
   "metadata": {
    "collapsed": false,
    "pycharm": {
     "name": "#%%  #筛选包含“生活”一词的评论。\n"
    }
   }
  },
  {
   "cell_type": "code",
   "execution_count": null,
   "outputs": [],
   "source": [
    "shenghuo_text = ''.join(filtered_df['cut_word'])\n",
    "shenghuo_text_list = shenghuo_text.split(' ')\n",
    "shenghuo_frq = dict(Counter(shenghuo_text_list))\n",
    "shenghuo_frq_sorted = sorted(shenghuo_frq.items(), key=lambda x: x[1],reverse=True)\n",
    "shenghuo_frq_list = []\n",
    "for word in shenghuo_frq_sorted:\n",
    "    if len(word[0]) > 1:  #如果字符长度大于1（非单字）。\n",
    "        if pos_word_dict[word[0]] in pos:  #如果词性在指定的范围内。\\n\",\n",
    "            shenghuo_frq_list.append(word)\n",
    "shenghuo_frq_df = pd.DataFrame(shenghuo_frq_list,columns=['word','frequency'])\n",
    "shenghuo_frq_df.index = shenghuo_frq_df.index + 1\n",
    "#shenghuo_frq_df.to_excel(path_dir+'\\\\'+'shenghuo_frq_66109.xlsx')"
   ],
   "metadata": {
    "collapsed": false,
    "pycharm": {
     "name": "#%%  #统计并展示筛选后的词频\n"
    }
   }
  },
  {
   "cell_type": "code",
   "execution_count": null,
   "outputs": [],
   "source": [
    "jieba.analyse.set_idf_path('idf.txt.big')\n",
    "shenghuo_keywords = jieba.analyse.extract_tags(shenghuo_text,topK=500,allowPOS=('ns','nr', 'n', 'nt','nw','nz','vn', 'vd','v','a','ad','an','d','t'),withWeight=True)\n",
    "shenghuo_keywords_df = pd.DataFrame(shenghuo_keywords,columns=['keywords','weight'])\n",
    "shenghuo_keywords_df.index = shenghuo_keywords_df.index + 1\n",
    "#shenghuo_keywords_df.to_excel(path_dir+'\\\\'+'shenghuo_keywords.xlsx')"
   ],
   "metadata": {
    "collapsed": false,
    "pycharm": {
     "name": "#%%  #提取筛选后的关键词。\n"
    }
   }
  },
  {
   "cell_type": "code",
   "execution_count": null,
   "outputs": [],
   "source": [
    "len(shenghuo_text_list)\n",
    "co_words = []\n",
    "for word in shenghuo_text_list:\n",
    "    if len(word) > 1:\n",
    "        if word not in co_words:\n",
    "            co_words.append(word)"
   ],
   "metadata": {
    "collapsed": false,
    "pycharm": {
     "name": "#%%\n"
    }
   }
  },
  {
   "cell_type": "code",
   "execution_count": null,
   "outputs": [],
   "source": [
    "len(filtered_df['cut_word'])\n"
   ],
   "metadata": {
    "collapsed": false,
    "pycharm": {
     "name": "#%%\n"
    }
   }
  }
 ],
 "metadata": {
  "kernelspec": {
   "display_name": "Python 3",
   "language": "python",
   "name": "python3"
  },
  "language_info": {
   "codemirror_mode": {
    "name": "ipython",
    "version": 2
   },
   "file_extension": ".py",
   "mimetype": "text/x-python",
   "name": "python",
   "nbconvert_exporter": "python",
   "pygments_lexer": "ipython2",
   "version": "2.7.6"
  }
 },
 "nbformat": 4,
 "nbformat_minor": 0
}